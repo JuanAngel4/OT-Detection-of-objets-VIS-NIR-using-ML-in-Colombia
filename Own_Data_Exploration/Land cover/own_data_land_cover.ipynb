{
 "cells": [
  {
   "cell_type": "markdown",
   "id": "113df459",
   "metadata": {},
   "source": [
    "## Estudio de Datos de la QBEE para cobertura terrestre\n",
    "Ahora bien, leeremos el formato hallado y replicaremos los estudios pero con el dataset propio.\n",
    "- Se segemntaron 14 imagenes\n",
    "- Posee 6 clases que son respectivamente: Water, Road, Land, Vegetation, Building, Unlabeled."
   ]
  },
  {
   "cell_type": "code",
   "execution_count": 2,
   "id": "151e27d8",
   "metadata": {},
   "outputs": [],
   "source": [
    "\n",
    "json_notes = r\"Own_Data_Exploration\\Land cover\\qbee_segmentation_data\\notes.json\"\n",
    "classes_file = r\"Own_Data_Exploration\\Land cover\\qbee_segmentation_data\\classes.txt\"\n",
    "images_folder = r\"Own_Data_Exploration\\Land cover\\qbee_segmentation_data\\images\"\n",
    "masks_folder = r\"Own_Data_Exploration\\Land cover\\qbee_segmentation_data\\labels\"\n"
   ]
  },
  {
   "cell_type": "markdown",
   "id": "98e6e8b1",
   "metadata": {},
   "source": [
    "Luego de definir las rutas, leemos los archivos y la forma de guardar cada anotacion.\n"
   ]
  },
  {
   "cell_type": "code",
   "execution_count": null,
   "id": "7c20fc64",
   "metadata": {},
   "outputs": [],
   "source": []
  }
 ],
 "metadata": {
  "kernelspec": {
   "display_name": "Python 3",
   "language": "python",
   "name": "python3"
  },
  "language_info": {
   "codemirror_mode": {
    "name": "ipython",
    "version": 3
   },
   "file_extension": ".py",
   "mimetype": "text/x-python",
   "name": "python",
   "nbconvert_exporter": "python",
   "pygments_lexer": "ipython3",
   "version": "3.11.9"
  }
 },
 "nbformat": 4,
 "nbformat_minor": 5
}
